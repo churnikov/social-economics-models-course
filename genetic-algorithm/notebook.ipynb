{
 "cells": [
  {
   "cell_type": "code",
   "execution_count": 2,
   "metadata": {
    "collapsed": true
   },
   "outputs": [],
   "source": [
    "import numpy as np\n",
    "from scipy.optimize import minimize"
   ]
  },
  {
   "cell_type": "code",
   "execution_count": 46,
   "metadata": {
    "collapsed": false
   },
   "outputs": [],
   "source": [
    "n = 10\n",
    "a = np.array([np.random.uniform(3, 7) for _ in range(n)])\n",
    "\n",
    "t_i = lambda f_i, c_i, a_i: a_i + (f_i/c_i)**3\n",
    "T = lambda f, c, a=a: np.sum(t_i(fi, ci, ai)*fi for fi, ci, ai in zip(f, c, a))"
   ]
  },
  {
   "cell_type": "code",
   "execution_count": 47,
   "metadata": {
    "collapsed": false
   },
   "outputs": [],
   "source": [
    "def get_k_best(l, c, k=5):\n",
    "    \"\"\"\n",
    "    Finds k best rows in l\n",
    "    \n",
    "    takes:\n",
    "        l -- matrix of T_i, f, c\n",
    "        k -- k best rows\n",
    "    returns:\n",
    "        k best rows\n",
    "    \"\"\"\n",
    "    mat = l\n",
    "    sor = c[np.argsort(mat)]\n",
    "    return sor[:k]"
   ]
  },
  {
   "cell_type": "code",
   "execution_count": 68,
   "metadata": {
    "collapsed": false
   },
   "outputs": [],
   "source": [
    "def cross_breed(vects, constrain, k=5):\n",
    "    \"\"\"\n",
    "    Computes cross breeing of vectors\n",
    "    \n",
    "    takes:\n",
    "        vects      -- vectors, that new generation would be created from\n",
    "        constrain  -- (float) size of new vector space (kinda)\n",
    "        k          -- amount vectors that would be used to produce new child\n",
    "        \n",
    "    returns:\n",
    "        new vector\n",
    "    \"\"\"\n",
    "    coeff = np.random.dirichlet(np.ones(vects.shape[0]), size=1).reshape(-1)\n",
    "    \n",
    "    conv_mat = np.array([ci * vi for ci, vi in zip(coeff, vects)])\n",
    "    new_vec = conv_mat.sum(axis=0)\n",
    "    return new_vec"
   ]
  },
  {
   "cell_type": "code",
   "execution_count": 69,
   "metadata": {
    "collapsed": false
   },
   "outputs": [],
   "source": [
    "def gen_population(dim_pop, dim_c=n, C=150, costs=None, Ts = None):\n",
    "    \"\"\"\n",
    "    Generates population. \n",
    "    On first step, when no c initialized, generates random c. \n",
    "    On next steps calculates c using cross of gens.\n",
    "    \n",
    "    takes: \n",
    "        dim_pop -- number of populations (how many rows in returned matrix)\n",
    "        dim_c   -- dimention of population (how many columns in returned matrix)\n",
    "        C       -- max cost sum (sum(c_i) <= C)\n",
    "        costs   -- passed if it is desired to calculate not on first step\n",
    "    returns:\n",
    "        matrix c[dim_pop, dim_c]\n",
    "    \"\"\"\n",
    "    c = np.zeros((dim_pop, dim_c))\n",
    "    if costs is None:\n",
    "        for i in range(dim_pop):\n",
    "            c[i] = np.array([np.random.uniform(0, C/dim_c) for j in range(dim_c)])\n",
    "    else:\n",
    "        for i in range(dim_pop):\n",
    "            # number of used vects\n",
    "            k = 5\n",
    "            k_best = get_k_best(Ts, costs, k)\n",
    "            c[i] = cross_breed(k_best, 2, k)\n",
    "    return c"
   ]
  },
  {
   "cell_type": "code",
   "execution_count": 70,
   "metadata": {
    "collapsed": true
   },
   "outputs": [],
   "source": [
    "def mineze(c, F = 500, m=n):\n",
    "    \"\"\"\n",
    "    Calculates step of inner minimization. \n",
    "    \n",
    "    takes:\n",
    "        c -- vector of costs\n",
    "        F -- total flow of network\n",
    "        m -- number of connections in graph\n",
    "        \n",
    "    returns:\n",
    "        tuple: T_i, f, c\n",
    "        T_i -- value in min point f\n",
    "        f   -- found min with specified c\n",
    "        c   -- passed c\n",
    "    \"\"\"\n",
    "    cons = ({'type' : 'eq',  'fun' : lambda x: np.sum(x) - F}, \n",
    "            {'type' : 'ineq','fun' : lambda x: x            })\n",
    "    f = np.ones(n) * F/m\n",
    "\n",
    "    f = minimize(lambda x: T(x, c), f, constraints=cons).x\n",
    "    T_i = T(f, c)\n",
    "    return T_i"
   ]
  },
  {
   "cell_type": "code",
   "execution_count": 81,
   "metadata": {
    "collapsed": false,
    "scrolled": false
   },
   "outputs": [
    {
     "name": "stdout",
     "output_type": "stream",
     "text": [
      "epoch: 1\n",
      "T value: 123684.01997637126\n",
      "costs: [  8.4686581    8.48840878  14.98972515   9.27022912   9.7036351\n",
      "   1.23490906   7.60818132   9.65852408   9.25078609   1.60281813]\n",
      "precision: [[ 74062.1486633]]\n",
      "\n",
      "epoch: 2\n",
      "T value: 140798.17343485795\n",
      "costs: [  9.12340584   8.93423586  11.54037105  12.6007003    9.12921369\n",
      "   4.40889107   5.60884676   5.36398543   6.68056179   3.40721482]\n",
      "precision: [[ 33043.01883841]]\n",
      "\n",
      "epoch: 3\n",
      "T value: 129180.99406120712\n",
      "costs: [  8.84971358   8.17571712  12.03146277  10.75244105   7.69352132\n",
      "   4.18714491   6.89706061   7.4100921    8.08502145   4.99602   ]\n",
      "precision: [[ 7940.24251713]]\n",
      "\n",
      "epoch: 4\n",
      "T value: 121543.35402860689\n",
      "costs: [  8.81999368   9.23640823  11.89674256  11.40589544   7.52457288\n",
      "   4.94260391   7.57776533   6.55298439   7.95253148   4.8296258 ]\n",
      "precision: [[ 2993.79890941]]\n",
      "\n",
      "epoch: 5\n",
      "T value: 120763.3209326844\n",
      "costs: [  8.90763996   9.11116337  11.84264173  11.28060129   7.39241397\n",
      "   4.99232852   7.67329059   6.5943399    8.04399412   5.07725959]\n",
      "precision: [[ 1594.23272692]]\n",
      "\n",
      "epoch: 6\n",
      "T value: 120138.33332734612\n",
      "costs: [  9.01693264   9.05591124  11.87550235  11.21229733   7.42870328\n",
      "   4.94972922   7.74426151   6.57589368   8.10229365   5.09743817]\n",
      "precision: [[ 188.38767392]]\n",
      "\n",
      "epoch: 7\n",
      "T value: 119893.42840591574\n",
      "costs: [  9.05320115   9.02721941  11.87579928  11.18047035   7.41941435\n",
      "   4.94685903   7.77317649   6.5769681    8.12754983   5.13461519]\n",
      "precision: [[ 71.59907683]]\n",
      "\n",
      "epoch: 8\n",
      "T value: 119911.3192329598\n",
      "costs: [  9.05059816   9.02925546  11.87578511  11.18275108   7.42010723\n",
      "   4.94703546   7.77106596   6.57690333   8.12572822   5.13192414]\n",
      "precision: [[ 14.13753439]]\n",
      "\n",
      "epoch: 9\n",
      "T value: 119913.27163408966\n",
      "costs: [  9.05031414   9.02962111  11.87588906  11.18310653   7.42038281\n",
      "   4.94697056   7.77082089   6.57679968   8.12547481   5.13132634]\n",
      "precision: [[ 2.0777739]]\n",
      "\n",
      "epoch: 10\n",
      "T value: 119911.34985082863\n",
      "costs: [  9.05062724   9.02935668  11.87589322  11.18282696   7.42031254\n",
      "   4.94693095   7.77105098   6.57681857   8.12568926   5.13164183]\n",
      "precision: [[ 1.28125447]]\n",
      "\n",
      "epoch: 11\n",
      "T value: 119911.07482524807\n",
      "costs: [  9.05066884   9.02930629  11.87588112  11.18277769   7.4202785\n",
      "   4.94693718   7.77108533   6.57683152   8.12572459   5.13172031]\n",
      "precision: [[ 0.04979511]]\n",
      "\n",
      "epoch: 12\n",
      "T value: 119911.06388823173\n",
      "costs: [  9.0506707    9.0293044   11.87588094  11.18277581   7.42027772\n",
      "   4.94693707   7.77108667   6.57683184   8.12572597   5.13172277]\n",
      "precision: [[ 0.05928949]]\n",
      "\n",
      "epoch: 13\n",
      "T value: 119911.0760567798\n",
      "costs: [  9.0506689    9.029306    11.87588106  11.18277752   7.42027842\n",
      "   4.94693711   7.77108522   6.57683167   8.12572464   5.13172055]\n",
      "precision: [[ 0.01708287]]\n",
      "\n",
      "epoch: 14\n",
      "T value: 119911.05534559832\n",
      "costs: [  9.05067211   9.02930269  11.87588059  11.18277417   7.4202767\n",
      "   4.94693719   7.77108775   6.57683228   8.12572712   5.13172526]\n",
      "precision: [[ 0.00138107]]\n",
      "\n",
      "epoch: 15\n",
      "T value: 119911.05378534227\n",
      "costs: [  9.05067235   9.02930241  11.87588053  11.18277389   7.42027653\n",
      "   4.94693721   7.77108794   6.57683234   8.12572732   5.13172569]\n",
      "precision: [[ 0.00138107]]\n",
      "\n",
      "epoch: 16\n",
      "T value: 119911.05354990531\n",
      "costs: [  9.05067238   9.02930234  11.87588049  11.18277383   7.42027645\n",
      "   4.94693724   7.77108798   6.57683238   8.12572736   5.13172582]\n",
      "precision: [[ 0.00138107]]\n",
      "\n",
      "epoch: 17\n",
      "T value: 119911.05331401527\n",
      "costs: [  9.05067241   9.02930228  11.87588046  11.18277378   7.42027638\n",
      "   4.94693727   7.77108801   6.5768324    8.1257274    5.13172594]\n",
      "precision: [[ 0.]]\n",
      "\n"
     ]
    }
   ],
   "source": [
    "from sklearn.metrics import euclidean_distances\n",
    "\n",
    "c = None\n",
    "Tfc = None\n",
    "T_prev = 0\n",
    "prec = 1\n",
    "\n",
    "epoch = 0\n",
    "while prec > 1e-3:\n",
    "    c = gen_population(10, costs=c, Ts=Tfc)\n",
    "    Tfc = []\n",
    "    for c_i in c:\n",
    "        Tfc.append(mineze(c_i))\n",
    "\n",
    "    prec = euclidean_distances(sorted(Tfc)[0], T_prev)\n",
    "    T_prev = sorted(Tfc)[0]\n",
    "    epoch = epoch + 1\n",
    "    \n",
    "    print('epoch: {}'.format(epoch))\n",
    "    print('T value: {}'.format(Tfc[0]))\n",
    "    print('costs: {}'.format(c[0]))\n",
    "    print('precision: {}\\n'.format(prec))"
   ]
  },
  {
   "cell_type": "code",
   "execution_count": 75,
   "metadata": {
    "collapsed": true
   },
   "outputs": [],
   "source": [
    "cons = ({'type' : 'ineq',  'fun' : lambda x: -np.sum(x) + 150}, \n",
    "        {'type' : 'ineq','fun' : lambda x: x            })"
   ]
  },
  {
   "cell_type": "code",
   "execution_count": 86,
   "metadata": {
    "collapsed": false
   },
   "outputs": [
    {
     "data": {
      "text/plain": [
       "array([  4.92537014,  13.1466713 ,   1.61835038,   2.65746521,\n",
       "         3.91618473,  11.56997657,   0.37409701,  13.28911962,\n",
       "         9.66617592,  13.02562941])"
      ]
     },
     "execution_count": 86,
     "metadata": {},
     "output_type": "execute_result"
    }
   ],
   "source": [
    "f = np.ones(10) * 500/10\n",
    "minimize(lambda x: T(c=x, f=f), gen_population(1), constraints=cons).x"
   ]
  },
  {
   "cell_type": "code",
   "execution_count": null,
   "metadata": {
    "collapsed": true
   },
   "outputs": [],
   "source": []
  },
  {
   "cell_type": "code",
   "execution_count": 17,
   "metadata": {
    "collapsed": false
   },
   "outputs": [
    {
     "name": "stdout",
     "output_type": "stream",
     "text": [
      "[[ 0.14734939  0.79738904  0.05526157]]\n"
     ]
    }
   ],
   "source": [
    "print(np.random.dirichlet(np.ones(3),size=1))"
   ]
  },
  {
   "cell_type": "code",
   "execution_count": 20,
   "metadata": {
    "collapsed": false
   },
   "outputs": [
    {
     "data": {
      "text/plain": [
       "3"
      ]
     },
     "execution_count": 20,
     "metadata": {},
     "output_type": "execute_result"
    }
   ],
   "source": [
    "np.zeros(3).shape[0]"
   ]
  },
  {
   "cell_type": "code",
   "execution_count": 83,
   "metadata": {
    "collapsed": false
   },
   "outputs": [
    {
     "data": {
      "text/plain": [
       "array([  9.05067241,   9.02930228,  11.87588046,  11.18277378,\n",
       "         7.42027638,   4.94693727,   7.77108801,   6.5768324 ,\n",
       "         8.1257274 ,   5.13172594])"
      ]
     },
     "execution_count": 83,
     "metadata": {},
     "output_type": "execute_result"
    }
   ],
   "source": [
    "c[0]"
   ]
  },
  {
   "cell_type": "code",
   "execution_count": null,
   "metadata": {
    "collapsed": true
   },
   "outputs": [],
   "source": []
  }
 ],
 "metadata": {
  "anaconda-cloud": {},
  "kernelspec": {
   "display_name": "Python [conda root]",
   "language": "python",
   "name": "conda-root-py"
  },
  "language_info": {
   "codemirror_mode": {
    "name": "ipython",
    "version": 3
   },
   "file_extension": ".py",
   "mimetype": "text/x-python",
   "name": "python",
   "nbconvert_exporter": "python",
   "pygments_lexer": "ipython3",
   "version": "3.5.2"
  }
 },
 "nbformat": 4,
 "nbformat_minor": 1
}
