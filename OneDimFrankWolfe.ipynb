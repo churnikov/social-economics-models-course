{
 "cells": [
  {
   "cell_type": "code",
   "execution_count": 5,
   "metadata": {
    "collapsed": true
   },
   "outputs": [],
   "source": [
    "import numpy as np\n",
    "from scipy.interpolate import approximate_taylor_polynomial as taylor\n",
    "from scipy.misc import derivative\n",
    "from scipy.optimize import minimize_scalar\n",
    "import matplotlib as plt\n",
    "import matplotlib.pyplot as plt\n"
   ]
  },
  {
   "cell_type": "code",
   "execution_count": 144,
   "metadata": {
    "collapsed": false
   },
   "outputs": [
    {
     "name": "stdout",
     "output_type": "stream",
     "text": [
      "-4.99999471072\n",
      "-4.62961493719\n"
     ]
    }
   ],
   "source": [
    "def fw(f, k, c, x_0):\n",
    "    \"\"\"\n",
    "    f -- function\n",
    "    k -- number of iterations\n",
    "    c -- interval where min of f will be found\n",
    "    \"\"\"\n",
    "    x = x_0\n",
    "    x_mins = []\n",
    "    for i in range(0, k):\n",
    "        t_poly = taylor(f, x, degree=1, scale=1)\n",
    "        y = t_poly\n",
    "        g = derivative(f, x)\n",
    "        s_f = lambda s_x: f(x) + (s_x - x) * g\n",
    "        s = minimize_scalar(s_f, bounds=c, method='bounded')\n",
    "        gamma = 2/(i+2)\n",
    "\n",
    "        x_mins.append((x, f(x)))\n",
    "        x = (1-gamma)*x + gamma*s.x\n",
    "    return x, np.array(x_mins)\n",
    "\n",
    "f = lambda x: np.arctan(x) * (x + 5)\n",
    "f = lambda x: (x/3)**3\n",
    "bounds = (-5, 5)\n",
    "start = 3\n",
    "x_min, x_mins = fw(f, 50, bounds, start)\n",
    "print(x_min)\n",
    "print(f(x_min))"
   ]
  },
  {
   "cell_type": "code",
   "execution_count": 145,
   "metadata": {
    "collapsed": false
   },
   "outputs": [
    {
     "data": {
      "image/png": "[encoded data removed]",
      "text/plain": [
       "<matplotlib.figure.Figure at 0x1119ba7b8>"
      ]
     },
     "metadata": {},
     "output_type": "display_data"
    }
   ],
   "source": [
    "def plot_minimization(x_mins, y_mins, x_func, y_func, min_point = None, start_point = None):\n",
    "    \"\"\"\n",
    "    x_mins -- Xes from minimization\n",
    "    y_mins -- values function in x_mins\n",
    "    x_func -- points of initial func\n",
    "    y_fucn -- values of func in x_func\n",
    "    min_point -- tuple (x, y) of minimal point\n",
    "    start_point -- tuple (x, y) of initial point\n",
    "    \"\"\"\n",
    "    from IPython import display\n",
    "    import time\n",
    "    \n",
    "    plt.ion()\n",
    "    plt.plot(x_func, y_func)\n",
    "        \n",
    "    for i, _ in enumerate(x_mins):\n",
    "        plt.scatter(x_mins[i], y_mins[i])\n",
    "        display.display(plt.gcf())\n",
    "        display.clear_output(wait=True)\n",
    "        time.sleep(0.01)\n",
    "    if start_point:\n",
    "        plt.scatter(start_point[0], start_point[1], c='y')\n",
    "    if min_point:\n",
    "        plt.scatter(min_point[0], min_point[1], c='r')\n",
    "        \n",
    "X = np.linspace(bounds[0], bounds[1], 256, endpoint=True)\n",
    "S = f(X)\n",
    "x_m = x_mins[:, 0]\n",
    "y_m = x_mins[:, 1]\n",
    "min_point = (x_min, f(x_min))\n",
    "start_point = (start, f(start))\n",
    "\n",
    "plot_minimization(x_m, y_m, X, S, min_point, start_point)"
   ]
  },
  {
   "cell_type": "code",
   "execution_count": null,
   "metadata": {
    "collapsed": true
   },
   "outputs": [],
   "source": []
  }
 ],
 "metadata": {
  "anaconda-cloud": {},
  "kernelspec": {
   "display_name": "Python [conda root]",
   "language": "python",
   "name": "conda-root-py"
  },
  "language_info": {
   "codemirror_mode": {
    "name": "ipython",
    "version": 3
   },
   "file_extension": ".py",
   "mimetype": "text/x-python",
   "name": "python",
   "nbconvert_exporter": "python",
   "pygments_lexer": "ipython3",
   "version": "3.5.2"
  }
 },
 "nbformat": 4,
 "nbformat_minor": 1
}
